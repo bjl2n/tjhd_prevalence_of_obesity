{
 "cells": [
  {
   "cell_type": "code",
   "execution_count": 1,
   "id": "c4b837ac-5b2e-44c2-997e-f2f314463c93",
   "metadata": {},
   "outputs": [],
   "source": [
    "import pandas as pd"
   ]
  },
  {
   "cell_type": "code",
   "execution_count": 2,
   "id": "ab020556-21f1-4346-bb71-a5dc549a1674",
   "metadata": {},
   "outputs": [],
   "source": [
    "def zcta_stats(df):\n",
    "    return pd.DataFrame({'hus10': df['hus10'].sum(),\n",
    "                         'afact': df['afact'].sum()}, \n",
    "                        index=[0])"
   ]
  },
  {
   "cell_type": "code",
   "execution_count": 3,
   "id": "ae17a44e-125d-4c92-b2ef-166f77673fa8",
   "metadata": {},
   "outputs": [],
   "source": [
    "# Read in allocation factor information\n",
    "hu_afact_df = pd.read_csv('other_data/Geocorr_2014_Output.csv', \n",
    "                          skiprows=[1])"
   ]
  },
  {
   "cell_type": "code",
   "execution_count": 4,
   "id": "68b69c4a-d3cb-435a-8cff-3f7a54f66333",
   "metadata": {},
   "outputs": [],
   "source": [
    "# Check to make sure that the allocation factor for each ZCTA is 1\n",
    "zcta_afact = hu_afact_df.groupby('zcta5')['afact'].sum()\n",
    "assert sum((zcta_afact - 1) < 0.01) == zcta_afact.shape[0], 'Not all ZCTAs have an allocation factor of 1'"
   ]
  },
  {
   "cell_type": "code",
   "execution_count": 5,
   "id": "7783506b",
   "metadata": {},
   "outputs": [],
   "source": [
    "# Subset the allocation factor to only the TJHD counties and city\n",
    "county_FIPs = [51003, 51125, 51540, 51065, 51079, 51109]\n",
    "\n",
    "tjhd_hu_afact_df = hu_afact_df.loc[hu_afact_df['county14'].apply(lambda x: x in county_FIPs)]"
   ]
  },
  {
   "cell_type": "code",
   "execution_count": 6,
   "id": "b7055896",
   "metadata": {},
   "outputs": [],
   "source": [
    "# Determine the sum of each ZCTAs allocation factor in each county/city\n",
    "tjhd_hu_afact_df = tjhd_hu_afact_df.groupby('zcta5') \\\n",
    "                                    .apply(zcta_stats) \\\n",
    "                                    .reset_index() \\\n",
    "                                    .set_index('zcta5')\n",
    "del tjhd_hu_afact_df['level_1']"
   ]
  },
  {
   "cell_type": "code",
   "execution_count": 7,
   "id": "214ed40c",
   "metadata": {},
   "outputs": [],
   "source": [
    "# Read in TJHD ZCTAs and join with allocation factor dataframe\n",
    "tjhd_hu_afact_df = pd.read_csv('other_data/TJHD_ZCTAs.txt') \\\n",
    "                        .set_index('ZCTA') \\\n",
    "                        .join(tjhd_hu_afact_df, how='left')\n",
    "tjhd_hu_afact_df.sort_values('afact').to_csv('output/TJHD_allocation_factors.csv')"
   ]
  },
  {
   "cell_type": "code",
   "execution_count": null,
   "id": "ec1570d2",
   "metadata": {},
   "outputs": [],
   "source": []
  }
 ],
 "metadata": {
  "kernelspec": {
   "display_name": "thriv",
   "language": "python",
   "name": "thriv"
  },
  "language_info": {
   "codemirror_mode": {
    "name": "ipython",
    "version": 3
   },
   "file_extension": ".py",
   "mimetype": "text/x-python",
   "name": "python",
   "nbconvert_exporter": "python",
   "pygments_lexer": "ipython3",
   "version": "3.8.8"
  }
 },
 "nbformat": 4,
 "nbformat_minor": 5
}
